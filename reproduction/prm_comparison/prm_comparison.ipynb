{
 "cells": [
  {
   "cell_type": "code",
   "execution_count": 1,
   "metadata": {},
   "outputs": [
    {
     "name": "stdout",
     "output_type": "stream",
     "text": [
      "Mosek is enabled:  True\n"
     ]
    }
   ],
   "source": [
    "%load_ext autoreload\n",
    "%autoreload 2\n",
    "import os\n",
    "import time\n",
    "import pickle\n",
    "import numpy as np\n",
    "import pandas as pd\n",
    "import multiprocessing as mp\n",
    "from IPython.display import HTML, SVG\n",
    "\n",
    "from pydrake.geometry import MeshcatVisualizer, MeshcatVisualizerParams, Role, StartMeshcat\n",
    "from pydrake.geometry.optimization import IrisInConfigurationSpace, IrisOptions\n",
    "from pydrake.multibody.parsing import LoadModelDirectives, Parser, ProcessModelDirectives\n",
    "from pydrake.multibody.plant import AddMultibodyPlantSceneGraph\n",
    "# from pydrake.planning.common_robotics_utilities import SimpleRRTPlannerState\n",
    "from pydrake.solvers import GurobiSolver, MosekSolver\n",
    "from pydrake.systems.framework import DiagramBuilder\n",
    "\n",
    "from gcs.linear import LinearGCS\n",
    "from gcs.rounding import randomForwardPathSearch\n",
    "# from reproduction.prm_comparison.planning import PRM, BiRRT\n",
    "from reproduction.prm_comparison.helpers import (\n",
    "    ForwardKinematics,\n",
    "    get_traj_length,\n",
    "    InverseKinematics,\n",
    "    is_traj_confined,\n",
    "    make_traj,\n",
    "    visualize_trajectory,\n",
    ")\n",
    "from reproduction.util import *\n",
    "\n",
    "# GurobiSolver.AcquireLicense()\n",
    "os.environ[\"MOSEKLM_LICENSE_FILE\"] = \"/Users/nolan/mosek/mosek.lic\"\n",
    "MosekSolver.AcquireLicense()\n",
    "print(\"Mosek is enabled: \", MosekSolver().enabled())"
   ]
  },
  {
   "cell_type": "code",
   "execution_count": 2,
   "metadata": {},
   "outputs": [
    {
     "name": "stderr",
     "output_type": "stream",
     "text": [
      "INFO:drake:Meshcat listening for connections at http://localhost:7001\n"
     ]
    }
   ],
   "source": [
    "# Start the visualizer (run this cell only once, each instance consumes a port)\n",
    "meshcat = StartMeshcat()"
   ]
  },
  {
   "cell_type": "code",
   "execution_count": 3,
   "metadata": {},
   "outputs": [],
   "source": [
    "SEED = 17\n",
    "np.random.seed(SEED)"
   ]
  },
  {
   "cell_type": "code",
   "execution_count": 4,
   "metadata": {
    "scrolled": false
   },
   "outputs": [],
   "source": [
    "builder = DiagramBuilder()\n",
    "plant, scene_graph = AddMultibodyPlantSceneGraph(builder, time_step=0.0)\n",
    "parser = Parser(plant)\n",
    "parser.package_map().Add(\"gcs\", GcsDir())\n",
    "\n",
    "directives_file = FindModelFile(\"models/iiwa14_spheres_collision_welded_gripper.yaml\")\n",
    "directives = LoadModelDirectives(directives_file)\n",
    "models = ProcessModelDirectives(directives, plant, parser)\n",
    "[iiwa, wsg, shelf, binR, binL, table] =  models\n",
    " \n",
    "\n",
    "plant.Finalize()\n",
    "\n",
    "meshcat_params = MeshcatVisualizerParams()\n",
    "meshcat_params.delete_on_initialization_event = False\n",
    "meshcat_params.role = Role.kIllustration\n",
    "# meshcat_params.role = Role.kProximity\n",
    "meshcat_cpp = MeshcatVisualizer.AddToBuilder(builder, scene_graph, meshcat, meshcat_params)\n",
    "\n",
    "diagram = builder.Build()\n",
    "\n",
    "context = diagram.CreateDefaultContext()\n",
    "#plant_context = plant.GetMyContextFromRoot(context)\n",
    "plant_context = plant.GetMyMutableContextFromRoot(context)\n",
    "q0 =[0, 0.3, 0, -1.8, 0, 1, 1.57]\n",
    "plant.SetPositions(plant_context, q0)\n",
    "# diagram.Publish(context)"
   ]
  },
  {
   "cell_type": "markdown",
   "metadata": {},
   "source": [
    "# Generate Iris Regions\n",
    "### via manual seeds"
   ]
  },
  {
   "cell_type": "code",
   "execution_count": 5,
   "metadata": {},
   "outputs": [],
   "source": [
    "milestones =  {\"Above Shelve\": [[0.75, 0, 0.9],    [0, -np.pi, -np.pi/2]],   \n",
    "                \"Top Rack\":    [[0.75, 0, 0.67],   [0, -np.pi, -np.pi/2]],   \n",
    "                \"Middle Rack\": [[0.75, 0, 0.41],   [0, -np.pi, -np.pi/2]],       \n",
    "                \"Left Bin\":    [[0.0,  0.6, 0.22], [np.pi/2, np.pi, 0]], \n",
    "                \"Right Bin\":   [[0.0, -0.6, 0.22], [np.pi/2, np.pi, np.pi]]}\n",
    "\n",
    "additional_seed_points = {\"Front to Shelve\":np.array([0, 0.2, 0, -2.09, 0, -0.3, np.pi/2]), \n",
    "                          \"Left to Shelve\": np.array([0.8, 0.7, 0, -1.6, 0, 0, np.pi/2]),\n",
    "                          \"Right to Shelve\":np.array([-0.8, 0.7, 0, -1.6, 0, 0, np.pi/2])} \n",
    "\n",
    "q0 =[0, 0.3, 0, -1.8, 0, 1, 1.57]\n",
    "milestone_configurations =  {name: InverseKinematics(q0, trans, rot) for name, (trans, rot) in milestones.items()}\n",
    "\n",
    "seed_points = {**milestone_configurations, **additional_seed_points}"
   ]
  },
  {
   "cell_type": "code",
   "execution_count": 6,
   "metadata": {},
   "outputs": [],
   "source": [
    "iris_options = IrisOptions()\n",
    "iris_options.require_sample_point_is_contained = True\n",
    "iris_options.iteration_limit = 10\n",
    "iris_options.termination_threshold = -1\n",
    "iris_options.relative_termination_threshold = 0.01\n",
    "CORE_CNT = mp.cpu_count() # you may edit this"
   ]
  },
  {
   "cell_type": "code",
   "execution_count": 7,
   "metadata": {
    "scrolled": true
   },
   "outputs": [],
   "source": [
    "def calcRegion(seed, verbose):\n",
    "    start_time = time.time()\n",
    "    context = diagram.CreateDefaultContext()\n",
    "    plant_context = plant.GetMyContextFromRoot(context)\n",
    "    plant.SetPositions(plant_context, seed)\n",
    "    hpoly = IrisInConfigurationSpace(plant, plant_context, iris_options)\n",
    "    print(\"Seed:\", seed, \"\\tTime:\", time.time() - start_time, flush=True)\n",
    "    return hpoly\n",
    "\n",
    "def generateRegions(seed_points, verbose = True):\n",
    "    seeds = list(seed_points.values()) if type(seed_points) is dict else seed_points\n",
    "    regions = []\n",
    "    loop_time = time.time()\n",
    "    with mp.Pool(processes = CORE_CNT) as pool:\n",
    "        regions = pool.starmap(calcRegion, [[seed, verbose] for seed in seeds])\n",
    "    \n",
    "    if verbose:\n",
    "        print(\"Loop time:\", time.time() - loop_time)\n",
    "    \n",
    "    if type(seed_points) is dict:\n",
    "        return dict(list(zip(seed_points.keys(), regions)))\n",
    "    \n",
    "    return regions"
   ]
  },
  {
   "cell_type": "code",
   "execution_count": null,
   "metadata": {
    "scrolled": true
   },
   "outputs": [],
   "source": [
    "regions = generateRegions(seed_points)"
   ]
  },
  {
   "cell_type": "markdown",
   "metadata": {},
   "source": [
    "## via pre-generated regions"
   ]
  },
  {
   "cell_type": "code",
   "execution_count": 8,
   "metadata": {},
   "outputs": [],
   "source": [
    "#load regions\n",
    "with open(os.path.join(GcsDir(), \"reproduction/prm_comparison/iris.pkl\"), \"rb\") as f:\n",
    "    regions = pickle.load(f)"
   ]
  },
  {
   "cell_type": "code",
   "execution_count": 9,
   "metadata": {},
   "outputs": [
    {
     "name": "stdout",
     "output_type": "stream",
     "text": [
      "digraph GraphOfConvexSets {\n",
      "labelloc=t;\n",
      "v1315 [label=\"v0\"]\n",
      "v1316 [label=\"v1\"]\n",
      "v1317 [label=\"v2\"]\n",
      "v1318 [label=\"v3\"]\n",
      "v1319 [label=\"v4\"]\n",
      "v1320 [label=\"v5\"]\n",
      "v1321 [label=\"v6\"]\n",
      "v1322 [label=\"v7\"]\n",
      "v1315 -> v1316 [label=\"(v0, v1)\"];\n",
      "v1316 -> v1315 [label=\"(v1, v0)\"];\n",
      "v1315 -> v1318 [label=\"(v0, v3)\"];\n",
      "v1318 -> v1315 [label=\"(v3, v0)\"];\n",
      "v1315 -> v1319 [label=\"(v0, v4)\"];\n",
      "v1319 -> v1315 [label=\"(v4, v0)\"];\n",
      "v1315 -> v1321 [label=\"(v0, v6)\"];\n",
      "v1321 -> v1315 [label=\"(v6, v0)\"];\n",
      "v1315 -> v1322 [label=\"(v0, v7)\"];\n",
      "v1322 -> v1315 [label=\"(v7, v0)\"];\n",
      "v1316 -> v1318 [label=\"(v1, v3)\"];\n",
      "v1318 -> v1316 [label=\"(v3, v1)\"];\n",
      "v1316 -> v1320 [label=\"(v1, v5)\"];\n",
      "v1320 -> v1316 [label=\"(v5, v1)\"];\n",
      "v1316 -> v1322 [label=\"(v1, v7)\"];\n",
      "v1322 -> v1316 [label=\"(v7, v1)\"];\n",
      "v1317 -> v1320 [label=\"(v2, v5)\"];\n",
      "v1320 -> v1317 [label=\"(v5, v2)\"];\n",
      "v1318 -> v1320 [label=\"(v3, v5)\"];\n",
      "v1320 -> v1318 [label=\"(v5, v3)\"];\n",
      "v1318 -> v1321 [label=\"(v3, v6)\"];\n",
      "v1321 -> v1318 [label=\"(v6, v3)\"];\n",
      "v1319 -> v1320 [label=\"(v4, v5)\"];\n",
      "v1320 -> v1319 [label=\"(v5, v4)\"];\n",
      "v1319 -> v1322 [label=\"(v4, v7)\"];\n",
      "v1322 -> v1319 [label=\"(v7, v4)\"];\n",
      "v1320 -> v1321 [label=\"(v5, v6)\"];\n",
      "v1321 -> v1320 [label=\"(v6, v5)\"];\n",
      "v1320 -> v1322 [label=\"(v5, v7)\"];\n",
      "v1322 -> v1320 [label=\"(v7, v5)\"];\n",
      "}\n",
      "\n"
     ]
    },
    {
     "data": {
      "text/plain": "<IPython.core.display.SVG object>",
      "image/svg+xml": "<svg xmlns=\"http://www.w3.org/2000/svg\" xmlns:xlink=\"http://www.w3.org/1999/xlink\" width=\"954pt\" height=\"487pt\" viewBox=\"0.00 0.00 953.50 486.50\">\n<g id=\"graph0\" class=\"graph\" transform=\"scale(1 1) rotate(0) translate(4 482.5)\">\n<title>GraphOfConvexSets</title>\n<polygon fill=\"white\" stroke=\"none\" points=\"-4,4 -4,-482.5 949.5,-482.5 949.5,4 -4,4\"/>\n<!-- v1315 -->\n<g id=\"node1\" class=\"node\">\n<title>v1315</title>\n<ellipse fill=\"none\" stroke=\"black\" cx=\"382\" cy=\"-460.5\" rx=\"27\" ry=\"18\"/>\n<text text-anchor=\"middle\" x=\"382\" y=\"-455.45\" font-family=\"Times,serif\" font-size=\"14.00\">v0</text>\n</g>\n<!-- v1316 -->\n<g id=\"node2\" class=\"node\">\n<title>v1316</title>\n<ellipse fill=\"none\" stroke=\"black\" cx=\"383\" cy=\"-372\" rx=\"27\" ry=\"18\"/>\n<text text-anchor=\"middle\" x=\"383\" y=\"-366.95\" font-family=\"Times,serif\" font-size=\"14.00\">v1</text>\n</g>\n<!-- v1315&#45;&gt;v1316 -->\n<g id=\"edge1\" class=\"edge\">\n<title>v1315-&gt;v1316</title>\n<path fill=\"none\" stroke=\"black\" d=\"M365.59,-446.2C355.35,-436.18 345.06,-421.85 350.5,-408 352.44,-403.05 355.45,-398.38 358.87,-394.17\"/>\n<polygon fill=\"black\" stroke=\"black\" points=\"361.02,-396.92 365.25,-387.21 355.89,-392.16 361.02,-396.92\"/>\n<text text-anchor=\"middle\" x=\"372.75\" y=\"-411.2\" font-family=\"Times,serif\" font-size=\"14.00\">(v0, v1)</text>\n</g>\n<!-- v1318 -->\n<g id=\"node4\" class=\"node\">\n<title>v1318</title>\n<ellipse fill=\"none\" stroke=\"black\" cx=\"264\" cy=\"-18\" rx=\"27\" ry=\"18\"/>\n<text text-anchor=\"middle\" x=\"264\" y=\"-12.95\" font-family=\"Times,serif\" font-size=\"14.00\">v3</text>\n</g>\n<!-- v1315&#45;&gt;v1318 -->\n<g id=\"edge3\" class=\"edge\">\n<title>v1315-&gt;v1318</title>\n<path fill=\"none\" stroke=\"black\" d=\"M354.63,-458.87C285.65,-456.92 106.37,-449.53 53,-424.5 23.26,-410.55 0,-405.84 0,-373 0,-373 0,-373 0,-105.5 0,-72.66 23.68,-68.81 53,-54 108.64,-25.89 182.05,-19.6 225.99,-18.6\"/>\n<polygon fill=\"black\" stroke=\"black\" points=\"225.82,-22.08 235.77,-18.44 225.72,-15.09 225.82,-22.08\"/>\n<text text-anchor=\"middle\" x=\"21.75\" y=\"-234.2\" font-family=\"Times,serif\" font-size=\"14.00\">(v0, v3)</text>\n</g>\n<!-- v1319 -->\n<g id=\"node5\" class=\"node\">\n<title>v1319</title>\n<ellipse fill=\"none\" stroke=\"black\" cx=\"737\" cy=\"-106.5\" rx=\"27\" ry=\"18\"/>\n<text text-anchor=\"middle\" x=\"737\" y=\"-101.45\" font-family=\"Times,serif\" font-size=\"14.00\">v4</text>\n</g>\n<!-- v1315&#45;&gt;v1319 -->\n<g id=\"edge5\" class=\"edge\">\n<title>v1315-&gt;v1319</title>\n<path fill=\"none\" stroke=\"black\" d=\"M402.51,-448.47C407.46,-446.19 412.83,-444.02 418,-442.5 505.41,-416.85 822,-464.1 822,-373 822,-373 822,-373 822,-194 822,-162.03 792.1,-137.55 767.76,-122.93\"/>\n<polygon fill=\"black\" stroke=\"black\" points=\"769.87,-119.53 759.45,-117.63 766.41,-125.62 769.87,-119.53\"/>\n<text text-anchor=\"middle\" x=\"843.75\" y=\"-278.45\" font-family=\"Times,serif\" font-size=\"14.00\">(v0, v4)</text>\n</g>\n<!-- v1321 -->\n<g id=\"node7\" class=\"node\">\n<title>v1321</title>\n<ellipse fill=\"none\" stroke=\"black\" cx=\"303\" cy=\"-106.5\" rx=\"27\" ry=\"18\"/>\n<text text-anchor=\"middle\" x=\"303\" y=\"-101.45\" font-family=\"Times,serif\" font-size=\"14.00\">v6</text>\n</g>\n<!-- v1315&#45;&gt;v1321 -->\n<g id=\"edge7\" class=\"edge\">\n<title>v1315-&gt;v1321</title>\n<path fill=\"none\" stroke=\"black\" d=\"M354.59,-459.89C322.93,-458.9 270.98,-452.64 238,-424.5 192.92,-386.03 198.17,-359.6 186.5,-301.5 172.4,-231.33 165.67,-197.05 212,-142.5 225.46,-126.65 246.97,-117.95 265.69,-113.19\"/>\n<polygon fill=\"black\" stroke=\"black\" points=\"266.32,-116.41 275.32,-110.82 264.79,-109.58 266.32,-116.41\"/>\n<text text-anchor=\"middle\" x=\"208.75\" y=\"-278.45\" font-family=\"Times,serif\" font-size=\"14.00\">(v0, v6)</text>\n</g>\n<!-- v1322 -->\n<g id=\"node8\" class=\"node\">\n<title>v1322</title>\n<ellipse fill=\"none\" stroke=\"black\" cx=\"554\" cy=\"-283.5\" rx=\"27\" ry=\"18\"/>\n<text text-anchor=\"middle\" x=\"554\" y=\"-278.45\" font-family=\"Times,serif\" font-size=\"14.00\">v7</text>\n</g>\n<!-- v1315&#45;&gt;v1322 -->\n<g id=\"edge9\" class=\"edge\">\n<title>v1315-&gt;v1322</title>\n<path fill=\"none\" stroke=\"black\" d=\"M403.38,-449.22C438.06,-431.37 506.1,-391.18 540,-336 544.4,-328.84 547.44,-320.28 549.53,-312.22\"/>\n<polygon fill=\"black\" stroke=\"black\" points=\"553.11,-313.23 551.83,-302.71 546.28,-311.73 553.11,-313.23\"/>\n<text text-anchor=\"middle\" x=\"547.75\" y=\"-366.95\" font-family=\"Times,serif\" font-size=\"14.00\">(v0, v7)</text>\n</g>\n<!-- v1316&#45;&gt;v1315 -->\n<g id=\"edge2\" class=\"edge\">\n<title>v1316-&gt;v1315</title>\n<path fill=\"none\" stroke=\"black\" d=\"M389.79,-389.63C393.09,-399.68 395.95,-412.78 394,-424.5 393.57,-427.07 392.98,-429.7 392.28,-432.31\"/>\n<polygon fill=\"black\" stroke=\"black\" points=\"388.68,-431.11 389.02,-441.7 395.35,-433.21 388.68,-431.11\"/>\n<text text-anchor=\"middle\" x=\"415.75\" y=\"-411.2\" font-family=\"Times,serif\" font-size=\"14.00\">(v1, v0)</text>\n</g>\n<!-- v1316&#45;&gt;v1318 -->\n<g id=\"edge11\" class=\"edge\">\n<title>v1316-&gt;v1318</title>\n<path fill=\"none\" stroke=\"black\" d=\"M356.46,-367.81C290.8,-359.19 126,-332.75 126,-284.5 126,-284.5 126,-284.5 126,-105.5 126,-57.71 186.14,-35.32 227.02,-25.62\"/>\n<polygon fill=\"black\" stroke=\"black\" points=\"227.71,-28.84 236.72,-23.27 226.2,-22 227.71,-28.84\"/>\n<text text-anchor=\"middle\" x=\"147.75\" y=\"-189.95\" font-family=\"Times,serif\" font-size=\"14.00\">(v1, v3)</text>\n</g>\n<!-- v1320 -->\n<g id=\"node6\" class=\"node\">\n<title>v1320</title>\n<ellipse fill=\"none\" stroke=\"black\" cx=\"483\" cy=\"-195\" rx=\"27\" ry=\"18\"/>\n<text text-anchor=\"middle\" x=\"483\" y=\"-189.95\" font-family=\"Times,serif\" font-size=\"14.00\">v5</text>\n</g>\n<!-- v1316&#45;&gt;v1320 -->\n<g id=\"edge13\" class=\"edge\">\n<title>v1316-&gt;v1320</title>\n<path fill=\"none\" stroke=\"black\" d=\"M378.71,-353.76C374.23,-331.86 369.72,-293.53 384.5,-265.5 398.45,-239.05 427.5,-220.48 450.46,-209.23\"/>\n<polygon fill=\"black\" stroke=\"black\" points=\"451.59,-212.1 459.18,-204.71 448.64,-205.75 451.59,-212.1\"/>\n<text text-anchor=\"middle\" x=\"406.75\" y=\"-278.45\" font-family=\"Times,serif\" font-size=\"14.00\">(v1, v5)</text>\n</g>\n<!-- v1316&#45;&gt;v1322 -->\n<g id=\"edge15\" class=\"edge\">\n<title>v1316-&gt;v1322</title>\n<path fill=\"none\" stroke=\"black\" d=\"M393.4,-355.23C401.82,-343.69 414.68,-328.52 429.5,-319.5 456.39,-303.14 467.71,-310.07 498,-301.5 505.03,-299.51 512.53,-297.3 519.67,-295.14\"/>\n<polygon fill=\"black\" stroke=\"black\" points=\"520.25,-298.32 528.8,-292.06 518.22,-291.63 520.25,-298.32\"/>\n<text text-anchor=\"middle\" x=\"450.75\" y=\"-322.7\" font-family=\"Times,serif\" font-size=\"14.00\">(v1, v7)</text>\n</g>\n<!-- v1317 -->\n<g id=\"node3\" class=\"node\">\n<title>v1317</title>\n<ellipse fill=\"none\" stroke=\"black\" cx=\"419\" cy=\"-106.5\" rx=\"27\" ry=\"18\"/>\n<text text-anchor=\"middle\" x=\"419\" y=\"-101.45\" font-family=\"Times,serif\" font-size=\"14.00\">v2</text>\n</g>\n<!-- v1317&#45;&gt;v1320 -->\n<g id=\"edge17\" class=\"edge\">\n<title>v1317-&gt;v1320</title>\n<path fill=\"none\" stroke=\"black\" d=\"M413.61,-124.44C411.28,-135.1 410.3,-148.73 416.5,-159 423.51,-170.61 435.78,-178.56 447.89,-183.91\"/>\n<polygon fill=\"black\" stroke=\"black\" points=\"446.32,-187.44 456.91,-187.81 448.86,-180.92 446.32,-187.44\"/>\n<text text-anchor=\"middle\" x=\"437.75\" y=\"-145.7\" font-family=\"Times,serif\" font-size=\"14.00\">(v2, v5)</text>\n</g>\n<!-- v1318&#45;&gt;v1315 -->\n<g id=\"edge4\" class=\"edge\">\n<title>v1318-&gt;v1315</title>\n<path fill=\"none\" stroke=\"black\" d=\"M236.61,-18.96C182.48,-20.48 67,-32.29 67,-105.5 67,-373 67,-373 67,-373 67,-429.86 260.29,-450.72 344.04,-457.09\"/>\n<polygon fill=\"black\" stroke=\"black\" points=\"343.64,-460.64 353.87,-457.87 344.15,-453.66 343.64,-460.64\"/>\n<text text-anchor=\"middle\" x=\"88.75\" y=\"-234.2\" font-family=\"Times,serif\" font-size=\"14.00\">(v3, v0)</text>\n</g>\n<!-- v1318&#45;&gt;v1316 -->\n<g id=\"edge12\" class=\"edge\">\n<title>v1318-&gt;v1316</title>\n<path fill=\"none\" stroke=\"black\" d=\"M263.44,-36.26C263,-57.22 263.02,-93.61 267,-124.5 278.35,-212.59 335.47,-304.09 365.1,-346.59\"/>\n<polygon fill=\"black\" stroke=\"black\" points=\"362.69,-348.24 371.32,-354.37 368.4,-344.19 362.69,-348.24\"/>\n<text text-anchor=\"middle\" x=\"313.75\" y=\"-189.95\" font-family=\"Times,serif\" font-size=\"14.00\">(v3, v1)</text>\n</g>\n<!-- v1318&#45;&gt;v1320 -->\n<g id=\"edge19\" class=\"edge\">\n<title>v1318-&gt;v1320</title>\n<path fill=\"none\" stroke=\"black\" d=\"M290.85,-20.84C344.7,-24.87 463.81,-35.62 500,-54 546.43,-77.58 579.25,-114.62 552,-159 544.51,-171.19 531.31,-179.3 518.44,-184.61\"/>\n<polygon fill=\"black\" stroke=\"black\" points=\"517.52,-181.58 509.31,-188.29 519.91,-188.16 517.52,-181.58\"/>\n<text text-anchor=\"middle\" x=\"582.75\" y=\"-101.45\" font-family=\"Times,serif\" font-size=\"14.00\">(v3, v5)</text>\n</g>\n<!-- v1318&#45;&gt;v1321 -->\n<g id=\"edge21\" class=\"edge\">\n<title>v1318-&gt;v1321</title>\n<path fill=\"none\" stroke=\"black\" d=\"M288.7,-26.13C302.28,-31.45 317.96,-40.23 326,-54 331.08,-62.69 328.37,-72.71 323.3,-81.59\"/>\n<polygon fill=\"black\" stroke=\"black\" points=\"319.87,-79.41 317.15,-89.65 325.66,-83.35 319.87,-79.41\"/>\n<text text-anchor=\"middle\" x=\"350.75\" y=\"-57.2\" font-family=\"Times,serif\" font-size=\"14.00\">(v3, v6)</text>\n</g>\n<!-- v1319&#45;&gt;v1315 -->\n<g id=\"edge6\" class=\"edge\">\n<title>v1319-&gt;v1315</title>\n<path fill=\"none\" stroke=\"black\" d=\"M763.88,-109.49C810.63,-114.57 902,-132.39 902,-194 902,-373 902,-373 902,-373 902,-429.41 840.88,-411.46 786,-424.5 626.69,-462.37 576.86,-402.78 418,-442.5 416.2,-442.95 414.39,-443.49 412.58,-444.1\"/>\n<polygon fill=\"black\" stroke=\"black\" points=\"411.4,-441.2 403.42,-448.17 414.01,-447.7 411.4,-441.2\"/>\n<text text-anchor=\"middle\" x=\"923.75\" y=\"-278.45\" font-family=\"Times,serif\" font-size=\"14.00\">(v4, v0)</text>\n</g>\n<!-- v1319&#45;&gt;v1320 -->\n<g id=\"edge23\" class=\"edge\">\n<title>v1319-&gt;v1320</title>\n<path fill=\"none\" stroke=\"black\" d=\"M715.27,-117.44C701.35,-124.05 683.03,-133.2 667.5,-142.5 656.55,-149.05 655.69,-153.88 644,-159 603.87,-176.59 554.12,-185.66 520.63,-190.11\"/>\n<polygon fill=\"black\" stroke=\"black\" points=\"520.42,-186.73 510.93,-191.45 521.29,-193.68 520.42,-186.73\"/>\n<text text-anchor=\"middle\" x=\"688.75\" y=\"-145.7\" font-family=\"Times,serif\" font-size=\"14.00\">(v4, v5)</text>\n</g>\n<!-- v1319&#45;&gt;v1322 -->\n<g id=\"edge25\" class=\"edge\">\n<title>v1319-&gt;v1322</title>\n<path fill=\"none\" stroke=\"black\" d=\"M737.96,-124.79C738.19,-134.84 737.94,-147.72 736,-159 728.26,-203.96 723.41,-224.52 684,-247.5 655.34,-264.21 618.49,-273.15 591.35,-277.8\"/>\n<polygon fill=\"black\" stroke=\"black\" points=\"591.06,-274.46 581.73,-279.49 592.16,-281.37 591.06,-274.46\"/>\n<text text-anchor=\"middle\" x=\"753.75\" y=\"-189.95\" font-family=\"Times,serif\" font-size=\"14.00\">(v4, v7)</text>\n</g>\n<!-- v1320&#45;&gt;v1316 -->\n<g id=\"edge14\" class=\"edge\">\n<title>v1320-&gt;v1316</title>\n<path fill=\"none\" stroke=\"black\" d=\"M476.35,-212.71C467.28,-234.38 449.65,-272.81 428,-301.5 420.99,-310.78 415.95,-310.17 409,-319.5 403.3,-327.15 398.24,-336.24 394.14,-344.64\"/>\n<polygon fill=\"black\" stroke=\"black\" points=\"390.65,-342.85 389.63,-353.39 397,-345.79 390.65,-342.85\"/>\n<text text-anchor=\"middle\" x=\"471.75\" y=\"-278.45\" font-family=\"Times,serif\" font-size=\"14.00\">(v5, v1)</text>\n</g>\n<!-- v1320&#45;&gt;v1317 -->\n<g id=\"edge18\" class=\"edge\">\n<title>v1320-&gt;v1317</title>\n<path fill=\"none\" stroke=\"black\" d=\"M477.66,-177.22C473.79,-166.63 467.86,-153.01 460,-142.5 455.81,-136.89 450.56,-131.57 445.24,-126.85\"/>\n<polygon fill=\"black\" stroke=\"black\" points=\"447.88,-123.67 437.95,-119.97 443.41,-129.05 447.88,-123.67\"/>\n<text text-anchor=\"middle\" x=\"490.75\" y=\"-145.7\" font-family=\"Times,serif\" font-size=\"14.00\">(v5, v2)</text>\n</g>\n<!-- v1320&#45;&gt;v1318 -->\n<g id=\"edge20\" class=\"edge\">\n<title>v1320-&gt;v1318</title>\n<path fill=\"none\" stroke=\"black\" d=\"M500.5,-181.12C511.83,-171.08 523.39,-156.54 517,-142.5 513.22,-134.19 462.72,-93.38 455,-88.5 405.67,-57.28 340.32,-37.39 300.27,-27.22\"/>\n<polygon fill=\"black\" stroke=\"black\" points=\"301.23,-23.6 290.68,-24.61 299.55,-30.4 301.23,-23.6\"/>\n<text text-anchor=\"middle\" x=\"520.75\" y=\"-101.45\" font-family=\"Times,serif\" font-size=\"14.00\">(v5, v3)</text>\n</g>\n<!-- v1320&#45;&gt;v1319 -->\n<g id=\"edge24\" class=\"edge\">\n<title>v1320-&gt;v1319</title>\n<path fill=\"none\" stroke=\"black\" d=\"M507.6,-187.4C527.19,-181.55 554.9,-171.93 577,-159 586.8,-153.27 586.39,-147.67 596.5,-142.5 629.24,-125.74 670.45,-116.7 699.75,-112.04\"/>\n<polygon fill=\"black\" stroke=\"black\" points=\"699.98,-115.39 709.36,-110.46 698.95,-108.47 699.98,-115.39\"/>\n<text text-anchor=\"middle\" x=\"617.75\" y=\"-145.7\" font-family=\"Times,serif\" font-size=\"14.00\">(v5, v4)</text>\n</g>\n<!-- v1320&#45;&gt;v1321 -->\n<g id=\"edge27\" class=\"edge\">\n<title>v1320-&gt;v1321</title>\n<path fill=\"none\" stroke=\"black\" d=\"M456.45,-190.28C403.23,-182.71 288.08,-165.64 282.5,-159 275.81,-151.04 278.42,-140.64 283.66,-131.26\"/>\n<polygon fill=\"black\" stroke=\"black\" points=\"286.95,-133.63 289.54,-123.36 281.11,-129.77 286.95,-133.63\"/>\n<text text-anchor=\"middle\" x=\"304.75\" y=\"-145.7\" font-family=\"Times,serif\" font-size=\"14.00\">(v5, v6)</text>\n</g>\n<!-- v1320&#45;&gt;v1322 -->\n<g id=\"edge29\" class=\"edge\">\n<title>v1320-&gt;v1322</title>\n<path fill=\"none\" stroke=\"black\" d=\"M480.56,-213.12C479.92,-223.84 480.84,-237.48 487.5,-247.5 494.95,-258.7 507.19,-266.56 519.15,-271.95\"/>\n<polygon fill=\"black\" stroke=\"black\" points=\"517.44,-275.43 528.02,-275.91 520.04,-268.94 517.44,-275.43\"/>\n<text text-anchor=\"middle\" x=\"508.75\" y=\"-234.2\" font-family=\"Times,serif\" font-size=\"14.00\">(v5, v7)</text>\n</g>\n<!-- v1321&#45;&gt;v1315 -->\n<g id=\"edge8\" class=\"edge\">\n<title>v1321-&gt;v1315</title>\n<path fill=\"none\" stroke=\"black\" d=\"M288.22,-121.89C283.11,-127.77 277.94,-134.96 275,-142.5 253.38,-197.93 256.56,-267.44 266.5,-301.5 284.67,-363.75 303.69,-374.51 345,-424.5 348.87,-429.19 353.33,-433.88 357.79,-438.24\"/>\n<polygon fill=\"black\" stroke=\"black\" points=\"354.99,-440.35 364.67,-444.65 359.78,-435.25 354.99,-440.35\"/>\n<text text-anchor=\"middle\" x=\"288.75\" y=\"-278.45\" font-family=\"Times,serif\" font-size=\"14.00\">(v6, v0)</text>\n</g>\n<!-- v1321&#45;&gt;v1318 -->\n<g id=\"edge22\" class=\"edge\">\n<title>v1321-&gt;v1318</title>\n<path fill=\"none\" stroke=\"black\" d=\"M290.59,-90.16C286.29,-84.28 281.74,-77.34 278.5,-70.5 274.98,-63.08 272.17,-54.65 269.99,-46.79\"/>\n<polygon fill=\"black\" stroke=\"black\" points=\"273.16,-46.06 267.32,-37.22 266.37,-47.77 273.16,-46.06\"/>\n<text text-anchor=\"middle\" x=\"300.75\" y=\"-57.2\" font-family=\"Times,serif\" font-size=\"14.00\">(v6, v3)</text>\n</g>\n<!-- v1321&#45;&gt;v1320 -->\n<g id=\"edge28\" class=\"edge\">\n<title>v1321-&gt;v1320</title>\n<path fill=\"none\" stroke=\"black\" d=\"M316.63,-122.09C328.12,-133.6 345.54,-149.3 363.5,-159 389.56,-173.07 421.96,-182.11 446.44,-187.47\"/>\n<polygon fill=\"black\" stroke=\"black\" points=\"445.58,-191.07 456.08,-189.67 447,-184.21 445.58,-191.07\"/>\n<text text-anchor=\"middle\" x=\"385.75\" y=\"-145.7\" font-family=\"Times,serif\" font-size=\"14.00\">(v6, v5)</text>\n</g>\n<!-- v1322&#45;&gt;v1315 -->\n<g id=\"edge10\" class=\"edge\">\n<title>v1322-&gt;v1315</title>\n<path fill=\"none\" stroke=\"black\" d=\"M563.83,-300.4C576.12,-322.56 593.34,-363.04 574,-390 531.36,-449.44 485.9,-415.27 418,-442.5 416.32,-443.17 414.62,-443.88 412.9,-444.62\"/>\n<polygon fill=\"black\" stroke=\"black\" points=\"411.82,-441.72 404.13,-449.01 414.69,-448.1 411.82,-441.72\"/>\n<text text-anchor=\"middle\" x=\"603.75\" y=\"-366.95\" font-family=\"Times,serif\" font-size=\"14.00\">(v7, v0)</text>\n</g>\n<!-- v1322&#45;&gt;v1316 -->\n<g id=\"edge16\" class=\"edge\">\n<title>v1322-&gt;v1316</title>\n<path fill=\"none\" stroke=\"black\" d=\"M534.11,-296.17C522.94,-302.83 508.82,-311.44 496.5,-319.5 485.82,-326.49 484.25,-329.98 473,-336 455.25,-345.5 434.35,-353.79 417.16,-359.91\"/>\n<polygon fill=\"black\" stroke=\"black\" points=\"416.3,-356.85 408,-363.44 418.6,-363.47 416.3,-356.85\"/>\n<text text-anchor=\"middle\" x=\"517.75\" y=\"-322.7\" font-family=\"Times,serif\" font-size=\"14.00\">(v7, v1)</text>\n</g>\n<!-- v1322&#45;&gt;v1319 -->\n<g id=\"edge26\" class=\"edge\">\n<title>v1322-&gt;v1319</title>\n<path fill=\"none\" stroke=\"black\" d=\"M568.01,-267.77C589.3,-245.96 631.75,-204.68 673.5,-177 688.91,-166.79 697.8,-171.94 711,-159 717.92,-152.22 723.32,-143.22 727.36,-134.63\"/>\n<polygon fill=\"black\" stroke=\"black\" points=\"730.95,-136.13 731.63,-125.55 724.51,-133.4 730.95,-136.13\"/>\n<text text-anchor=\"middle\" x=\"694.75\" y=\"-189.95\" font-family=\"Times,serif\" font-size=\"14.00\">(v7, v4)</text>\n</g>\n<!-- v1322&#45;&gt;v1320 -->\n<g id=\"edge30\" class=\"edge\">\n<title>v1322-&gt;v1320</title>\n<path fill=\"none\" stroke=\"black\" d=\"M548.93,-265.51C545.17,-254.83 539.25,-241.2 531,-231 525.62,-224.35 518.68,-218.33 511.76,-213.24\"/>\n<polygon fill=\"black\" stroke=\"black\" points=\"514.36,-210.08 504.13,-207.3 510.39,-215.85 514.36,-210.08\"/>\n<text text-anchor=\"middle\" x=\"561.75\" y=\"-234.2\" font-family=\"Times,serif\" font-size=\"14.00\">(v7, v5)</text>\n</g>\n<!-- \\n -->\n<g id=\"node9\" class=\"node\">\n<title>\\n</title>\n<ellipse fill=\"none\" stroke=\"black\" cx=\"454\" cy=\"-460.5\" rx=\"27\" ry=\"18\"/>\n</g>\n</g>\n</svg>"
     },
     "execution_count": 9,
     "metadata": {},
     "output_type": "execute_result"
    }
   ],
   "source": [
    "# gcs = LinearGCS({f\"q_{i + 1}\":r for i, r in enumerate(regions.values())})\n",
    "# gcs = LinearGCS({f\"q_{i + 1}\":r for i, r in enumerate(regions)})\n",
    "gcs = LinearGCS(regions)\n",
    "SVG(gcs.VisualizeGraph())"
   ]
  },
  {
   "cell_type": "code",
   "execution_count": 29,
   "outputs": [
    {
     "name": "stdout",
     "output_type": "stream",
     "text": [
      "source -> v2\n",
      "v2 -> v5\n",
      "v5 -> v6\n",
      "v6 -> v3\n",
      "v3 -> target\n",
      "time taken: 111.0089590549469 sec\n"
     ]
    }
   ],
   "source": [
    "# my test: bezierGCS -- time cost: 1; path length: 1\n",
    "start = np.array([0.30309668, 0.70918771, -0.12844925, -1.6049653, 0.30388439, -0.74434504, 1.42963035])\n",
    "goal = np.array([1.20570511, 0.7956385, 0.35750584, -1.47261015, -0.31592979, 0.93008018, 1.65418276])\n",
    "\n",
    "from gcs.bezier import *\n",
    "bezier_gcs = BezierGCS(regions, 5, 2)\n",
    "bezier_gcs.setPaperSolverOptions()\n",
    "bezier_gcs.addTimeCost(1)\n",
    "bezier_gcs.addPathLengthCost(1)\n",
    "bezier_gcs.addSourceTarget(start, goal)\n",
    "\n",
    "start_time = time.time()\n",
    "bezier_gcs.SolvePath()\n",
    "end_time = time.time()\n",
    "print(f\"time taken: {end_time - start_time} sec\")"
   ],
   "metadata": {
    "collapsed": false
   }
  },
  {
   "cell_type": "code",
   "execution_count": 10,
   "outputs": [
    {
     "name": "stdout",
     "output_type": "stream",
     "text": [
      "source -> v2\n",
      "v2 -> v5\n",
      "v5 -> v3\n",
      "v3 -> target\n",
      "time taken: 18.732216835021973 sec\n"
     ]
    }
   ],
   "source": [
    "# my test: bezierGCS -- time cost: 1; path length: 0\n",
    "start = np.array([0.30309668, 0.70918771, -0.12844925, -1.6049653, 0.30388439, -0.74434504, 1.42963035])\n",
    "goal = np.array([1.20570511, 0.7956385, 0.35750584, -1.47261015, -0.31592979, 0.93008018, 1.65418276])\n",
    "\n",
    "from gcs.bezier import *\n",
    "bezier_gcs = BezierGCS(regions, 5, 2)\n",
    "gcs.setSolver(MosekSolver())\n",
    "bezier_gcs.setPaperSolverOptions()\n",
    "bezier_gcs.addTimeCost(1)\n",
    "bezier_gcs.addSourceTarget(start, goal)\n",
    "\n",
    "start_time = time.time()\n",
    "bezier_gcs.SolvePath()\n",
    "end_time = time.time()\n",
    "print(f\"time taken: {end_time - start_time} sec\")"
   ],
   "metadata": {
    "collapsed": false
   }
  },
  {
   "cell_type": "code",
   "execution_count": 32,
   "outputs": [
    {
     "name": "stdout",
     "output_type": "stream",
     "text": [
      "source -> v2\n",
      "v2 -> v5\n",
      "v5 -> v6\n",
      "v6 -> v3\n",
      "v3 -> target\n",
      "time taken: 170.7407932281494 sec\n"
     ]
    }
   ],
   "source": [
    "# my test: bezierGCS -- time cost: 0; path length: 1\n",
    "start = np.array([0.30309668, 0.70918771, -0.12844925, -1.6049653, 0.30388439, -0.74434504, 1.42963035])\n",
    "goal = np.array([1.20570511, 0.7956385, 0.35750584, -1.47261015, -0.31592979, 0.93008018, 1.65418276])\n",
    "\n",
    "from gcs.bezier import *\n",
    "bezier_gcs = BezierGCS(regions, 5, 2)\n",
    "bezier_gcs.setPaperSolverOptions()\n",
    "bezier_gcs.addPathLengthCost(1)\n",
    "bezier_gcs.addSourceTarget(start, goal)\n",
    "\n",
    "start_time = time.time()\n",
    "bezier_gcs.SolvePath()\n",
    "end_time = time.time()\n",
    "print(f\"time taken: {end_time - start_time} sec\")"
   ],
   "metadata": {
    "collapsed": false
   }
  },
  {
   "cell_type": "markdown",
   "metadata": {},
   "source": [
    "# Build PRM"
   ]
  },
  {
   "cell_type": "code",
   "execution_count": 7,
   "metadata": {},
   "outputs": [
    {
     "ename": "NameError",
     "evalue": "name 'PRM' is not defined",
     "output_type": "error",
     "traceback": [
      "\u001B[0;31m---------------------------------------------------------------------------\u001B[0m",
      "\u001B[0;31mNameError\u001B[0m                                 Traceback (most recent call last)",
      "Cell \u001B[0;32mIn[7], line 6\u001B[0m\n\u001B[1;32m      3\u001B[0m roadmap_size \u001B[38;5;241m=\u001B[39m \u001B[38;5;241m15000\u001B[39m\n\u001B[1;32m      5\u001B[0m \u001B[38;5;66;03m#initlize with seeds for fairness\u001B[39;00m\n\u001B[0;32m----> 6\u001B[0m prm \u001B[38;5;241m=\u001B[39m \u001B[43mPRM\u001B[49m(plant, diagram, collision_step_size, SEED, K, \u001B[38;5;28mlist\u001B[39m(seed_points\u001B[38;5;241m.\u001B[39mvalues()))\n",
      "\u001B[0;31mNameError\u001B[0m: name 'PRM' is not defined"
     ]
    }
   ],
   "source": [
    "collision_step_size = 0.02\n",
    "K = 5\n",
    "roadmap_size = 15000\n",
    "\n",
    "#initlize with seeds for fairness\n",
    "prm = PRM(plant, diagram, collision_step_size, SEED, K, list(seed_points.values()))"
   ]
  },
  {
   "cell_type": "markdown",
   "metadata": {},
   "source": [
    "### Load Roadmap if you don't want to wait 15 minutes"
   ]
  },
  {
   "cell_type": "code",
   "execution_count": null,
   "metadata": {},
   "outputs": [],
   "source": [
    "#TODO use wget here to download th prm map from server\n",
    "prm.load(os.path.join(GcsDir(), \"data/prm_comparison/15k_presplined.rmp\"))"
   ]
  },
  {
   "cell_type": "markdown",
   "metadata": {},
   "source": [
    "### Or Grow it "
   ]
  },
  {
   "cell_type": "code",
   "execution_count": null,
   "metadata": {},
   "outputs": [],
   "source": [
    "solve_timeout = 200\n",
    "goal_bias = 0.05\n",
    "step_size = 0.1\n",
    "birrt = BiRRT(plant, diagram, collision_step_size, SEED, step_size, goal_bias, solve_timeout)"
   ]
  },
  {
   "cell_type": "markdown",
   "metadata": {},
   "source": [
    "### Connect via BiRRT first\n",
    "Given the knowledge of the Graph of Convex Sets, we will use BiRRT to connect the edges. All of the nodes of the RRT trees will be added to the PRM map"
   ]
  },
  {
   "cell_type": "code",
   "execution_count": null,
   "metadata": {},
   "outputs": [],
   "source": [
    "pairs_2_connect = [\n",
    "  [SimpleRRTPlannerState(seed_points[\"Front to Shelve\"]), SimpleRRTPlannerState(seed_points[\"Top Rack\"])],\n",
    "  [SimpleRRTPlannerState(seed_points[\"Front to Shelve\"]), SimpleRRTPlannerState(seed_points[\"Middle Rack\"])],\n",
    "  [SimpleRRTPlannerState(seed_points[\"Front to Shelve\"]), SimpleRRTPlannerState(seed_points[\"Left Bin\"])],\n",
    "  [SimpleRRTPlannerState(seed_points[\"Front to Shelve\"]), SimpleRRTPlannerState(seed_points[\"Right Bin\"])],\n",
    "    \n",
    "  [SimpleRRTPlannerState(seed_points[\"Left Bin\"]), SimpleRRTPlannerState(seed_points[\"Above Shelve\"])],\n",
    "  [SimpleRRTPlannerState(seed_points[\"Left Bin\"]), SimpleRRTPlannerState(seed_points[\"Left to Shelve\"])],\n",
    "\n",
    "    \n",
    "  [SimpleRRTPlannerState(seed_points[\"Right Bin\"]), SimpleRRTPlannerState(seed_points[\"Above Shelve\"])],\n",
    "  [SimpleRRTPlannerState(seed_points[\"Right Bin\"]), SimpleRRTPlannerState(seed_points[\"Right to Shelve\"])],\n",
    "    \n",
    "  [SimpleRRTPlannerState(seed_points[\"Above Shelve\"]), SimpleRRTPlannerState(seed_points[\"Left to Shelve\"])],\n",
    "  [SimpleRRTPlannerState(seed_points[\"Above Shelve\"]), SimpleRRTPlannerState(seed_points[\"Right to Shelve\"])],\n",
    "]\n",
    "\n",
    "prm = PRM(plant, diagram, collision_step_size, SEED, K)\n",
    "\n",
    "start_time = time.time()\n",
    "\n",
    "for start_tree, goal_tree in  pairs_2_connect:\n",
    "    result, start_tree_extended, end_tree_extended = birrt.connect([start_tree], [goal_tree], use_parallel = True)\n",
    "    if len(result.Path()) == 0:\n",
    "        raise Exception(\"Failed to connect nodes\")\n",
    "    prm.addNodes(list(map(lambda x: x.GetValueImmutable(), start_tree_extended)) + list(map(lambda x: x.GetValueImmutable(), end_tree_extended)))\n",
    "\n",
    "print(f\"Roadmap extended to {prm.roadmap_size} in {round(time.time()-start_time,2)} s\")"
   ]
  },
  {
   "cell_type": "markdown",
   "metadata": {},
   "source": [
    "### Continue growing the Roadmap"
   ]
  },
  {
   "cell_type": "code",
   "execution_count": null,
   "metadata": {},
   "outputs": [],
   "source": [
    "stats = prm.GrowRoadMap(roadmap_size, True)\n",
    "print(f'Grow time: {stats[\"growing_time\"]} s') "
   ]
  },
  {
   "cell_type": "code",
   "execution_count": null,
   "metadata": {},
   "outputs": [],
   "source": [
    "prm.save(os.path.join(GcsDir(), \"data/prm_comparison/15k_presplined.rmp\"))"
   ]
  },
  {
   "cell_type": "markdown",
   "metadata": {},
   "source": [
    "# Run Comparison"
   ]
  },
  {
   "cell_type": "code",
   "execution_count": 17,
   "metadata": {},
   "outputs": [],
   "source": [
    "def getGCSPath(sequence, verbose = False):\n",
    "    path = [sequence[0]]\n",
    "    run_time = 0.0\n",
    "    for start_pt, goal_pt in zip(sequence[:-1], sequence[1:]):\n",
    "        gcs = LinearGCS(regions.copy())\n",
    "        try:\n",
    "            gcs.addSourceTarget(start_pt, goal_pt)\n",
    "            print(f\"start_pt: {start_pt}\")\n",
    "            print(f\"goal_pt: {goal_pt}\")\n",
    "            print()\n",
    "        except:\n",
    "            print(\"failed\")\n",
    "            continue\n",
    "        gcs.setRoundingStrategy(randomForwardPathSearch, max_paths = 10, max_trials = 100, seed = SEED)\n",
    "        gcs.setSolver(MosekSolver())\n",
    "        start_time = time.time()\n",
    "        waypoints, results_dict = gcs.SolvePath(rounding=True, verbose=False, preprocessing=True)\n",
    "        end_time = time.time()\n",
    "        print(f\"time taken: {end_time - start_time}\")\n",
    "        if waypoints is None:\n",
    "            if verbose:\n",
    "                print(f\"Failed between {start_pt} and {goal_pt}\")\n",
    "            return None\n",
    "\n",
    "#         run_time += results_dict[\"preprocessing_stats\"][\"linear_programs\"]\n",
    "        run_time += results_dict[\"relaxation_solver_time\"]\n",
    "        run_time += results_dict[\"total_rounded_solver_time\"]\n",
    "        if verbose:\n",
    "            print(\"Convex Relaxation\", round(results_dict[\"relaxation_cost\"], 3),\n",
    "                  \"min hard result cost\", round(results_dict[\"rounded_cost\"], 3),\n",
    "                  \"Gap\", round((results_dict[\"rounded_cost\"] - results_dict[\"relaxation_cost\"])/results_dict[\"relaxation_cost\"], 3))\n",
    "    \n",
    "        path += waypoints.T[1:].tolist()\n",
    "    return np.stack(path).T, run_time\n",
    "\n",
    "def shortcut(path):\n",
    "    \"\"\"Those values are used by TRI\"\"\"\n",
    "    return prm.shortcut(np.stack(path),\n",
    "                 max_iter = 200,\n",
    "                 max_failed_iter = 200,\n",
    "                 max_backtracking_steps = 0,\n",
    "                 max_shortcut_fraction = 1.0,\n",
    "                 resample_shortcuts_interval = 0.25,\n",
    "                 check_for_marginal_shortcuts = False)"
   ]
  },
  {
   "cell_type": "markdown",
   "metadata": {},
   "source": [
    "# Demonstration"
   ]
  },
  {
   "cell_type": "code",
   "execution_count": 14,
   "metadata": {},
   "outputs": [],
   "source": [
    "demonstration =  {\"Above Shelve\": [[0.75, -0.12, 0.9], [0, -np.pi, -np.pi/2]],   \n",
    "                \"Top Rack\":       [[0.75, 0.12, 0.67], [0, -np.pi, -np.pi/2]],   \n",
    "                \"Middle Rack\":    [[0.75, 0.12, 0.41], [0, -np.pi, -np.pi/2]],       \n",
    "                \"Left Bin\":       [[0.08, 0.6, 0.22],  [np.pi/2, np.pi, 0]], \n",
    "                \"Right Bin\":      [[-0.08, -0.6, 0.22], [np.pi/2, np.pi, np.pi]]}\n",
    "\n",
    "q0 =[0, 0.3, 0, -1.8, 0, 1, 1.57]\n",
    "demonstration_configurations =  {name: InverseKinematics(q0, trans, rot) for name, (trans, rot) in demonstration.items()}\n"
   ]
  },
  {
   "cell_type": "code",
   "execution_count": 15,
   "metadata": {},
   "outputs": [],
   "source": [
    "demo_a = [demonstration_configurations[\"Above Shelve\"],\n",
    "          demonstration_configurations[\"Top Rack\"]]\n",
    "\n",
    "demo_b = [demonstration_configurations[\"Top Rack\"],\n",
    "          demonstration_configurations[\"Middle Rack\"]]\n",
    "\n",
    "demo_c = [demonstration_configurations[\"Middle Rack\"],\n",
    "          demonstration_configurations[\"Left Bin\"]]\n",
    "\n",
    "demo_d = [demonstration_configurations[\"Left Bin\"],\n",
    "          demonstration_configurations[\"Right Bin\"]]\n",
    "\n",
    "demo_e = [demonstration_configurations[\"Right Bin\"],\n",
    "          demonstration_configurations[\"Above Shelve\"]]\n",
    "\n",
    "demo_f = [demonstration_configurations[\"Above Shelve\"],\n",
    "         seed_points[\"Left to Shelve\"]]\n",
    "\n",
    "\n",
    "demo_circle = [demonstration_configurations[\"Above Shelve\"],\n",
    "               demonstration_configurations[\"Top Rack\"],\n",
    "               demonstration_configurations[\"Middle Rack\"],\n",
    "               demonstration_configurations[\"Left Bin\"],\n",
    "               demonstration_configurations[\"Right Bin\"],\n",
    "               demonstration_configurations[\"Above Shelve\"]]\n",
    "\n"
   ]
  },
  {
   "cell_type": "code",
   "execution_count": 18,
   "metadata": {
    "scrolled": false
   },
   "outputs": [
    {
     "name": "stdout",
     "output_type": "stream",
     "text": [
      "failed\n",
      "failed\n",
      "start_pt: [ 0.30309668  0.70918771 -0.12844925 -1.6049653   0.30388439 -0.74434504\n",
      "  1.42963035]\n",
      "goal_pt: [ 1.20570511  0.7956385   0.35750584 -1.47261015 -0.31592979  0.93008018\n",
      "  1.65418276]\n",
      "\n",
      "time taken: 0.24408507347106934\n",
      "Convex Relaxation 2.481 min hard result cost 2.497 Gap 0.007\n",
      "start_pt: [ 1.20570511  0.7956385   0.35750584 -1.47261015 -0.31592979  0.93008018\n",
      "  1.65418276]\n",
      "goal_pt: [-1.46880722  0.79622676 -0.36068249 -1.47251535  0.318728    0.9307579\n",
      "  1.22061518]\n",
      "\n",
      "time taken: 0.33483123779296875\n",
      "Convex Relaxation 3.258 min hard result cost 3.613 Gap 0.109\n",
      "start_pt: [-1.46880722  0.79622676 -0.36068249 -1.47251535  0.318728    0.9307579\n",
      "  1.22061518]\n",
      "goal_pt: [-0.30102434  0.52369055  0.22433511 -0.59851624  0.22659828  0.48185299\n",
      "  1.25736947]\n",
      "\n",
      "time taken: 0.24493002891540527\n",
      "Convex Relaxation 1.806 min hard result cost 1.86 Gap 0.03\n",
      "Linear GCS length: 9.035, and time: 0.625 s\n"
     ]
    }
   ],
   "source": [
    "execute_demo = demo_circle\n",
    "GCS_path, GCS_time = getGCSPath(execute_demo, verbose = True)\n",
    "linear_gcs_traj = make_traj(GCS_path, speed = 2)\n",
    "print(f\"Linear GCS length: {round(get_traj_length(linear_gcs_traj), 3)}, and time: {round(GCS_time, 3)} s\")\n",
    "\n",
    "# PRM_path, PRM_time = prm.getPath(execute_demo, verbose = True)\n",
    "# prm_traj = make_traj(PRM_path, speed = 2)\n",
    "# print(f\"PRM length: {round(get_traj_length(prm_traj), 3)}, and time: {round(PRM_time, 3)} s\")\n",
    "#\n",
    "# sPRM_path, sPRM_time = prm.getPath(execute_demo, path_processing = shortcut)\n",
    "# sprm_traj = make_traj(sPRM_path, speed = 2)\n",
    "# print(f\"Smoothed PRM length: {round(get_traj_length(sprm_traj), 3)}, and time: {round(sPRM_time, 3)} s\")\n"
   ]
  },
  {
   "cell_type": "code",
   "execution_count": null,
   "metadata": {
    "scrolled": true
   },
   "outputs": [],
   "source": [
    "is_traj_confined(sprm_traj, regions)"
   ]
  },
  {
   "cell_type": "code",
   "execution_count": 32,
   "metadata": {},
   "outputs": [],
   "source": [
    "visualize_trajectory(meshcat,\n",
    "                     # [linear_gcs_traj,prm_traj,sprm_traj],\n",
    "                     [linear_gcs_traj],\n",
    "                     show_line = True,\n",
    "                     iiwa_ghosts = execute_demo,\n",
    "                     alpha =  0.3,\n",
    "                     regions = [])\n"
   ]
  },
  {
   "cell_type": "code",
   "execution_count": 33,
   "metadata": {},
   "outputs": [],
   "source": [
    "with open (\"GCS_PRM15k_comparison.html\", \"w\") as f:\n",
    "    f.write(meshcat.StaticHtml())"
   ]
  },
  {
   "cell_type": "markdown",
   "metadata": {},
   "source": [
    "## Comparison Table for Paper\n"
   ]
  },
  {
   "cell_type": "code",
   "execution_count": null,
   "metadata": {},
   "outputs": [],
   "source": [
    "demos_for_paper = [demo_a, demo_b, demo_c, demo_d, demo_e]\n",
    "\n",
    "proposed_planner_data = []\n",
    "PRM_data = []\n",
    "sPRM_data = []\n",
    "\n",
    "N = 10 # We ran this 100 in the paper \n",
    "for _ in range(N):\n",
    "    #extract trajectory and time \n",
    "    trajectories = map(lambda d:[getGCSPath(d),prm.getPath(d),prm.getPath(d, path_processing = shortcut)], demos_for_paper)\n",
    "    #get length of trajectory\n",
    "    length_time_list = map(lambda traj_time: [[get_traj_length(make_traj(trj)), t] for trj, t in traj_time], trajectories)\n",
    "    #flatten for pandas\n",
    "    length_time_list = np.array(list(length_time_list))\n",
    "    \n",
    "    proposed_planner_data.append(length_time_list[:,0].flatten())\n",
    "    PRM_data.append(length_time_list[:,1].flatten())\n",
    "    sPRM_data.append(length_time_list[:,2].flatten())\n",
    "    \n",
    "proposed_planner_data = np.mean(proposed_planner_data, axis = 0)\n",
    "PRM_data = np.mean(PRM_data, axis = 0)\n",
    "sPRM_data = np.mean(sPRM_data, axis = 0)"
   ]
  },
  {
   "cell_type": "code",
   "execution_count": null,
   "metadata": {},
   "outputs": [],
   "source": [
    "cols = {\"Proposed Planner\":proposed_planner_data,\n",
    "        \"Regular PRM\":PRM_data,\n",
    "        \"Shortcut PRM\":sPRM_data}\n",
    "\n",
    "index = pd.MultiIndex.from_tuples([('q1-q2', 'length (rad)'), ('q1-q2', 'runtime (s)'),\n",
    "                                    ('q2-q3', 'length (rad)'), ('q2-q3', 'runtime (s)'),\n",
    "                                    ('q3-q4', 'length (rad)'), ('q3-q4', 'runtime (s)'),\n",
    "                                    ('q4-q5', 'length (rad)'), ('q4-q5', 'runtime (s)'),\n",
    "                                    ('q5-q1', 'length (rad)'), ('q5-q1', 'runtime (s)'),], names=[\"Task\", \"\"])\n",
    "df = pd.DataFrame(data = cols, index=index)"
   ]
  },
  {
   "cell_type": "code",
   "execution_count": null,
   "metadata": {},
   "outputs": [],
   "source": [
    "df.round(2)"
   ]
  },
  {
   "cell_type": "markdown",
   "metadata": {},
   "source": [
    "## Debug\n",
    "When playing with the demonstration points, use this to understand where PRM fails and where the regions to include the configurations"
   ]
  },
  {
   "cell_type": "code",
   "execution_count": null,
   "metadata": {},
   "outputs": [],
   "source": [
    "for k,v in {name: InverseKinematics(q0, trans, rot) for name, (trans, rot) in demonstration.items()}.items():\n",
    "    print(k, regions[k].PointInSet(v), not prm.getPath([q0, v]) is None)"
   ]
  },
  {
   "cell_type": "code",
   "execution_count": null,
   "metadata": {},
   "outputs": [],
   "source": []
  }
 ],
 "metadata": {
  "kernelspec": {
   "display_name": "Python 3",
   "language": "python",
   "name": "python3"
  },
  "language_info": {
   "codemirror_mode": {
    "name": "ipython",
    "version": 3
   },
   "file_extension": ".py",
   "mimetype": "text/x-python",
   "name": "python",
   "nbconvert_exporter": "python",
   "pygments_lexer": "ipython3",
   "version": "3.8.10"
  }
 },
 "nbformat": 4,
 "nbformat_minor": 2
}
